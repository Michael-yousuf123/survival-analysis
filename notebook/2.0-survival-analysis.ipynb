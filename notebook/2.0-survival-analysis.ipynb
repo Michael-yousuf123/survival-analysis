{
 "cells": [
  {
   "cell_type": "markdown",
   "metadata": {},
   "source": [
    " \n",
    "6. Modeling      \n",
    "6.1. Transformation Pipeline    \n",
    "6.2. Training on train split      \n",
    "6.3. Cross-validation   \n",
    "7. Fine-tuning  \n",
    "7.1. Hypeparametrization       \n",
    "7.2. Evaluate on test set   \n",
    "8. Deployment "
   ]
  },
  {
   "cell_type": "code",
   "execution_count": 1,
   "metadata": {},
   "outputs": [],
   "source": [
    "import pandas as pd\n",
    "import numpy as np\n",
    "from sklearn.svm import SVC\n",
    "from sklearn.preprocessing import StandardScaler\n",
    "from sklearn.pipeline import Pipeline\n",
    "from sklearn.compose import ColumnTransformer\n",
    "from sklearn.metrics import confusion_matrix, classification_report, roc_auc_score, roc_curve\n",
    "from sklearn.metrics import precision_score, recall_score, f1_score, accuracy_score\n",
    "from sklearn.metrics import confusion_matrix, classification_report\n",
    "from sklearn.inspection import permutation_importance\n",
    "import numpy as np\n",
    "%matplotlib inline\n",
    "import seaborn as sns\n",
    "sns.set(style='darkgrid', context='notebook',font_scale=1.5, color_codes=True)\n",
    "import matplotlib.pyplot as plt\n",
    "plt.style.use('ggplot')\n",
    "np.random.seed(42)\n",
    "\n",
    "TRAINPATH='/home/miki/Desktop/Deployment/survival-analysis/data/trainds/train.csv'\n",
    "TESTPATH='/home/miki/Desktop/Deployment/survival-analysis/data/testds/test.csv'\n",
    "ACCURACYPATH='/home/miki/Desktop/Deployment/survival-analysis/reports/accuracy.csv'\n",
    "MODELPATH='/home/miki/Desktop/Deployment/survival-analysis/output/model.pkl'"
   ]
  },
  {
   "cell_type": "code",
   "execution_count": 2,
   "metadata": {},
   "outputs": [],
   "source": [
    "traindf = pd.read_csv('/home/miki/Desktop/Deployment/survival-analysis/data/trainds/train.csv')\n",
    "X_train = traindf.drop(['Event'], axis = 1)\n",
    "y_train = traindf['Event']"
   ]
  },
  {
   "cell_type": "code",
   "execution_count": 3,
   "metadata": {},
   "outputs": [],
   "source": [
    "cols_to_scale =  ['Time of 1st coll', 'Method of co. feeding', 'Amount of liquid diet', 'Parity of the dam', 'Weaning age', 'Cleaness of the barn', 'Housing', 'Education', 'Herd size', 'Age of the farm', 'Source of income', 'Owner ship', 'Sex of cc', 'Experience']\n",
    "numeric_transformer = Pipeline(steps=[('scaler', StandardScaler())])\n",
    "preprocessor = ColumnTransformer(remainder='drop',\n",
    "                                 transformers=[('num', numeric_transformer, cols_to_scale)])\n",
    "clf = Pipeline(steps=[('preprocessor', preprocessor), \n",
    "                        ('classifier', SVC( kernel='rbf',random_state=42))\n",
    "                        ])"
   ]
  },
  {
   "cell_type": "code",
   "execution_count": 4,
   "metadata": {},
   "outputs": [
    {
     "name": "stdout",
     "output_type": "stream",
     "text": [
      "Training set score: 0.9387755102040817\n"
     ]
    }
   ],
   "source": [
    "clf.fit(X_train, y_train)\n",
    "\n",
    "print('Training set score: ' + str(clf.score(X_train,y_train)))"
   ]
  },
  {
   "cell_type": "code",
   "execution_count": 5,
   "metadata": {},
   "outputs": [],
   "source": [
    "testdf = pd.read_csv('/home/miki/Desktop/Deployment/survival-analysis/data/testds/test.csv')\n",
    "X_test = testdf.drop(['Event'], axis = 1)\n",
    "y_test = testdf['Event']"
   ]
  },
  {
   "cell_type": "code",
   "execution_count": 6,
   "metadata": {},
   "outputs": [
    {
     "data": {
      "text/plain": [
       "0.96"
      ]
     },
     "execution_count": 6,
     "metadata": {},
     "output_type": "execute_result"
    }
   ],
   "source": [
    "clf.score(X_test,y_test)"
   ]
  },
  {
   "cell_type": "code",
   "execution_count": 7,
   "metadata": {},
   "outputs": [],
   "source": [
    "preds = clf.predict(X_test)"
   ]
  },
  {
   "cell_type": "code",
   "execution_count": 8,
   "metadata": {},
   "outputs": [
    {
     "name": "stdout",
     "output_type": "stream",
     "text": [
      "[[15  0]\n",
      " [ 1  9]]\n",
      "              precision    recall  f1-score   support\n",
      "\n",
      "           0       0.94      1.00      0.97        15\n",
      "           1       1.00      0.90      0.95        10\n",
      "\n",
      "    accuracy                           0.96        25\n",
      "   macro avg       0.97      0.95      0.96        25\n",
      "weighted avg       0.96      0.96      0.96        25\n",
      "\n"
     ]
    }
   ],
   "source": [
    "print(confusion_matrix(y_test, preds))\n",
    "print(classification_report(y_test, preds))"
   ]
  },
  {
   "cell_type": "code",
   "execution_count": 9,
   "metadata": {},
   "outputs": [
    {
     "name": "stdout",
     "output_type": "stream",
     "text": [
      "Accuracy Score: 0.96\n",
      "Recall Score: 0.9\n",
      "F1 Score: 0.9473684210526316\n",
      "Precision Score: 1.0\n",
      "ROC AUC Score:  0.95\n",
      "Threshold: [2 1 0]\n"
     ]
    }
   ],
   "source": [
    "print(\"Accuracy Score:\", accuracy_score(y_test, preds))\n",
    "print(\"Recall Score:\", recall_score(y_test, preds))\n",
    "print(\"F1 Score:\", f1_score(y_test, preds))\n",
    "print(\"Precision Score:\", precision_score(y_test, preds))\n",
    "print(\"ROC AUC Score: \", roc_auc_score(y_test, preds))\n",
    "sc_fp, sc_tp, sc_threshold = roc_curve(y_test, preds)\n",
    "print(\"Threshold:\", sc_threshold)"
   ]
  },
  {
   "cell_type": "code",
   "execution_count": 10,
   "metadata": {},
   "outputs": [],
   "source": [
    "accs = accuracy_score(y_test, preds)\n",
    "reccs = recall_score(y_test, preds)\n",
    "f1 = f1_score(y_test, preds)\n",
    "presc = precision_score(y_test, preds),\n",
    "resc = roc_auc_score(y_test, preds)"
   ]
  },
  {
   "cell_type": "code",
   "execution_count": 11,
   "metadata": {},
   "outputs": [
    {
     "data": {
      "image/png": "[encoded data removed]",
      "text/plain": [
       "<Figure size 720x720 with 1 Axes>"
      ]
     },
     "metadata": {},
     "output_type": "display_data"
    }
   ],
   "source": [
    "# Visualize cross-validated metrics\n",
    "accuracy_metrics = pd.DataFrame({\"Accuracy Score\": accs,\n",
    "                                \"Recall Score\": reccs,\n",
    "                                \"F1 Score\": f1,\n",
    "                                \"Precision Score\": presc,\n",
    "                                \"ROC AUC Score\": resc},\n",
    "                          index=[0])\n",
    "accuracy_metrics.to_csv(\"/home/miki/Desktop/Deployment/survival-analysis/reports/accuracy.csv\")\n",
    "accuracy_metrics.T.plot.barh(title=\"Performance Measures\",\n",
    "                      color = 'Red',  legend=False, figsize=(10,10));"
   ]
  },
  {
   "cell_type": "code",
   "execution_count": 13,
   "metadata": {},
   "outputs": [],
   "source": [
    "def auc_plot(x = None, y = None):\n",
    "    \"\"\"Function to plot the AUC\n",
    "    =============================\n",
    "    ARGUMENTS:\n",
    "    x: int or float ==> False Positive\n",
    "    y: int or float ==> True Positive\n",
    "    =============================\n",
    "    \"\"\"\n",
    "    plt.figure(figsize=(20,10))\n",
    "    plt.plot([0, 1], [0, 1], linestyle = \"--\")\n",
    "    plt.plot(x, y, color=\"red\", label = \"Support Vector Machine\") \n",
    "    plt.xlabel(\"False Positive Rate\")\n",
    "    plt.ylabel(\"True Positive Rate\")\n",
    "    plt.title(\"ROC Curve\")\n",
    "    plt.legend()"
   ]
  },
  {
   "cell_type": "code",
   "execution_count": 14,
   "metadata": {},
   "outputs": [],
   "source": [
    "def matrix_plot(x = None, y = None):\n",
    "    \"\"\"Function to plot Matrix\n",
    "    ============================\n",
    "    ARGUMENTS:\n",
    "    x:(target label) int or float \n",
    "    y: (predicted label) int or float\n",
    "    ============================\"\"\"\n",
    "    class_names=[False, True] # name  of classes\n",
    "    fig, ax = plt.subplots(figsize=(5, 5))\n",
    "    sns.heatmap(confusion_matrix(y_test,preds), annot=True, cmap=\"YlGnBu\", fmt='g')\n",
    "    ax.xaxis.set_label_position(\"top\")\n",
    "    plt.tight_layout()\n",
    "    plt.title('Confusion matrix')\n",
    "    plt.ylabel('Actual label')\n",
    "    plt.xlabel('Predicted label')\n",
    "    tick_marks = [0.5, 1.5]\n",
    "    plt.xticks(tick_marks, class_names)\n",
    "    plt.yticks(tick_marks, class_names)\n",
    "    plt.show();"
   ]
  },
  {
   "cell_type": "code",
   "execution_count": 16,
   "metadata": {},
   "outputs": [
    {
     "data": {
      "text/plain": [
       "Text(0.5, 0, 'Permutation Importance')"
      ]
     },
     "execution_count": 16,
     "metadata": {},
     "output_type": "execute_result"
    },
    {
     "data": {
      "image/png": "[encoded data removed]",
      "text/plain": [
       "<Figure size 432x288 with 1 Axes>"
      ]
     },
     "metadata": {
      "needs_background": "light"
     },
     "output_type": "display_data"
    }
   ],
   "source": [
    "perm_importance = permutation_importance(clf, X_test, y_test)\n",
    "cols_to_scale =  ['Time of 1st coll', 'Method of co. feeding', 'Amount of liquid diet', 'Parity of the dam', 'Weaning age', 'Cleaness of the barn', 'Housing', 'Education', 'Herd size', 'Age of the farm', 'Source of income', 'Owner ship', 'Sex of cc', 'Experience']\n",
    "features = np.array(cols_to_scale)\n",
    "sorted_idx = perm_importance.importances_mean.argsort()\n",
    "plt.barh(features[sorted_idx], perm_importance.importances_mean[sorted_idx])\n",
    "plt.xlabel(\"Permutation Importance\")"
   ]
  },
  {
   "cell_type": "code",
   "execution_count": 19,
   "metadata": {},
   "outputs": [],
   "source": [
    "import pickle\n",
    "pickle_out = open(\"/home/miki/Desktop/Deployment/survival-analysis/output/model.pkl\", \"wb\")\n",
    "pickle.dump(clf, pickle_out)\n",
    "pickle_out.close()"
   ]
  }
 ],
 "metadata": {
  "kernelspec": {
   "display_name": "Python 3.8.1 ('survive': venv)",
   "language": "python",
   "name": "python3"
  },
  "language_info": {
   "codemirror_mode": {
    "name": "ipython",
    "version": 3
   },
   "file_extension": ".py",
   "mimetype": "text/x-python",
   "name": "python",
   "nbconvert_exporter": "python",
   "pygments_lexer": "ipython3",
   "version": "3.8.1"
  },
  "orig_nbformat": 4,
  "vscode": {
   "interpreter": {
    "hash": "8e58c1f0515f5809e8176eab9feed6f142c06128c7cedb32c0952b5b281a30cb"
   }
  }
 },
 "nbformat": 4,
 "nbformat_minor": 2
}
